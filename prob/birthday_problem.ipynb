{
 "cells": [
  {
   "cell_type": "markdown",
   "metadata": {},
   "source": [
    "# Birthday Problem\n",
    " >__Created__:  LPC 2021 Harrison B. Prosper<br>\n",
    " >__Updated__: INFN School of Statistics, Paestum, Italy May 2022\n",
    "\n",
    "### Classic Birthday Problem\n",
    "What's the chance that in a randomly assembled crowd of $n$ people at least two of them have the same birthday? How large must the crowd be for that chance to be at least 50%? Assume that there are $K$ possible birthdays (usually, $K = 365$) and each birthday is equally probable.\n",
    "\n",
    "### A Variation\n",
    "What's the chance to have *exactly* 2 people with identical birthdays, while the birthdays of all others in the crowd are unique? What crowd size maximizes the chance to have only a single duplicate birthday.\n",
    "\n",
    "\n",
    "Here we use the Python module __itertools__ to simulate the problem.\n",
    "\n",
    "__Exercise__\n",
    "\n",
    "Derive expressions for the probabilities in terms of $K$ birthdays and crowd sizes of size $n$, $p_0, p_1, p_2$ of no duplicates, exactly one duplicate, and at least one duplicate, respectively, and compare with the probabilities estimated by simulation."
   ]
  },
  {
   "cell_type": "code",
   "execution_count": 1,
   "metadata": {},
   "outputs": [],
   "source": [
    "# standard Python system modules\n",
    "import os, sys\n",
    "\n",
    "# standard array manipulation\n",
    "import numpy as np\n",
    "\n",
    "# combinatorial analysis\n",
    "from itertools import permutations, combinations, product\n",
    "\n",
    "from math import factorial\n",
    "from copy import copy"
   ]
  },
  {
   "cell_type": "markdown",
   "metadata": {},
   "source": [
    "### Create all crowds of size $n$ with $K$ possible birthdays"
   ]
  },
  {
   "cell_type": "code",
   "execution_count": 2,
   "metadata": {},
   "outputs": [
    {
     "name": "stdout",
     "output_type": "stream",
     "text": [
      "birthdays: [1, 2, 3, 4, 5, 6, 7, 8, 9]\n",
      "number of possible crowds: 531441 531441\n"
     ]
    }
   ],
   "source": [
    "K = 9  # number of birthdays\n",
    "n = 6  # crowd size\n",
    "\n",
    "# initialize an n-tuple: (z1,...,zn)\n",
    "b = range(1, K+1)\n",
    "print('birthdays: %s' % list(b))\n",
    "\n",
    "# create all possible n-tuples using \"b\": (b1,...,bn)\n",
    "# via the Cartesian product of n instances of \"b\"\n",
    "p = product(b, repeat=n)\n",
    "\n",
    "# verify that number of crowds is K**n\n",
    "crowds = []\n",
    "while 1:\n",
    "    try:\n",
    "        crowd = next(p)\n",
    "    except StopIteration:\n",
    "        break\n",
    "    crowds.append(crowd)\n",
    "\n",
    "# number of crowds\n",
    "M  = len(crowds)\n",
    "print('number of possible crowds:', M, K**n)"
   ]
  },
  {
   "cell_type": "markdown",
   "metadata": {},
   "source": [
    "### Algorithm\n",
    "Loop over crowds. If a crowd of size $n$ has exactly one duplicate birthday then when the crowd is converted to a __set__ the cardinality of the set will be $n-1$."
   ]
  },
  {
   "cell_type": "code",
   "execution_count": 3,
   "metadata": {},
   "outputs": [
    {
     "name": "stdout",
     "output_type": "stream",
     "text": [
      "number of crowds with zero duplicates:             60480 \n",
      "number of crowds with exactly one duplicate:      226800 \n",
      "number of crowds with at least one duplicate:     244161 \n",
      "\n",
      "probability of zero duplicates:                    0.114\n",
      "probability of exactly one duplicate:              0.427\n",
      "probability of at least one duplicate:             0.886\n"
     ]
    }
   ],
   "source": [
    "N0 = 0 # number of crowds with zero duplicate birthdays\n",
    "N1 = 0 # number of crowds with exactly one duplicate birthday\n",
    "N2 = 0 # number of crowds eith at least one duplicate birthday\n",
    "\n",
    "for crowd in crowds:\n",
    "    size = len(set(crowd))\n",
    "    if size == n:\n",
    "        N0 += 1  # every birthday is different\n",
    "    elif size == n-1:\n",
    "        N1 += 1  # exactly one duplicate\n",
    "    else:\n",
    "        N2 += 1  # more than one duplicate\n",
    "\n",
    "p0 = float(N0)/M\n",
    "p1 = float(N1)/M\n",
    "p2 = float(N1+N2)/M\n",
    "\n",
    "print('number of crowds with zero duplicates:        %10d ' % N0)\n",
    "print('number of crowds with exactly one duplicate:  %10d ' % N1)\n",
    "print('number of crowds with at least one duplicate: %10d ' % N2)\n",
    "print()\n",
    "print('probability of zero duplicates:               %10.3f'% p0)\n",
    "print('probability of exactly one duplicate:         %10.3f'% p1)\n",
    "print('probability of at least one duplicate:        %10.3f'% p2)"
   ]
  },
  {
   "cell_type": "code",
   "execution_count": null,
   "metadata": {
    "collapsed": true
   },
   "outputs": [],
   "source": []
  }
 ],
 "metadata": {
  "kernelspec": {
   "display_name": "Python 3 (ipykernel)",
   "language": "python",
   "name": "python3"
  },
  "language_info": {
   "codemirror_mode": {
    "name": "ipython",
    "version": 3
   },
   "file_extension": ".py",
   "mimetype": "text/x-python",
   "name": "python",
   "nbconvert_exporter": "python",
   "pygments_lexer": "ipython3",
   "version": "3.9.13"
  }
 },
 "nbformat": 4,
 "nbformat_minor": 1
}
