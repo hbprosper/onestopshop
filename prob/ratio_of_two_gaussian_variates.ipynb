{
 "cells": [
  {
   "cell_type": "markdown",
   "metadata": {},
   "source": [
    "# Ratio of Two Gaussian Variates\n",
    " >__Created__:  4 June 2019 Harrison B. Prosper, INFN SOS 2019, Paestum, Italy<br>\n",
    " >__Updated__: October 2021 for LPC Stats 2021<br>\n",
    " >__Updated__: May 2022 for INFN SOS 2022, Paestum, Italy 2022\n",
    " \n",
    " In this notebook, we approximate the density of the ratio $t = y \\, / \\, x$ of two\n",
    " standard Gaussian variates $x$ and $y$ by simulation and compare the simulated density to the exact result. The domain of $t$ is\n",
    " $(-\\infty, \\infty)$.\n",
    "\n",
    "The density of a standard Gaussian variate $z$ is $g(z) = \\exp(-\\frac{1}{2} z^2) \\, / \\sqrt{2\\pi}$, therefore, the density, $p(t)$, can be written as\n",
    "\n",
    "\\begin{align*}\n",
    "p(t) &= \\int_{-\\infty}^{\\infty}  \\int_{-\\infty}^{\\infty} \\delta(t - y \\, / \\, x) \\, g(x) \\, g(y) \\, dx \\, dy ,\\\\\n",
    "    &= \\frac{1}{2\\pi}\\int_{-\\infty}^{\\infty}  \\int_{-\\infty}^{\\infty} \\delta(t - y \\, / \\, x) \\, e^{-\\frac{1}{2} ( x^2 + y^2)} \\, dx \\, dy .\n",
    "\\end{align*}\n",
    "\n",
    "Transforming to polar coordinates $(r, \\, \\theta)$, defined by $x = r\\cos\\theta$ and $y = r\\sin\\theta$, yields\n",
    "\\begin{align*}\n",
    "p(t) &= \\frac{1}{2\\pi} \\int_{0}^{2\\pi} \\delta(t - \\tan(\\theta)) \\, d\\theta\\int_{0}^{\\infty}  e^{-\\frac{1}{2} r^2} \\, r \\, dr,\\\\\n",
    "&= \\frac{1}{2\\pi} \\int_{0}^{2\\pi} \\delta(t - \\tan(\\theta)) \\, d\\theta.\n",
    "\\end{align*}\n",
    "This is an elegant integral, but subtle!\n",
    "\n",
    "On the domain $[0, 2\\pi]$, the function $h(\\theta) = t - \\tan\\theta = 0$ has two roots separated by $\\pi$. Therefore, since \n",
    "$|dh \\, / \\, d\\theta| = 1\\, /\\,\\cos^2\\theta$ and is never zero, \n",
    "$\\delta(h(\\theta))$ can be expressed as\n",
    "\n",
    "\\begin{align*}\n",
    "\\delta(h(\\theta)) & = \\frac{\\delta(\\theta - \\theta_0)}{|dh \\, /\\, d\\theta|_{\\theta_0}} + \\frac{\\delta(\\theta - \\theta_0 - \\pi)}{|dh \\, /\\, d\\theta|_{\\theta_0 + \\pi}},\\\\\n",
    "& = \\delta(\\theta - \\theta_0) \\, \\cos^2\\theta_0 + \\delta(\\theta - \\theta_0 - \\pi) \\, \\cos^2(\\theta_0 + \\pi),\\\\\n",
    "& = \\delta(\\theta - \\theta_0) \\, \\cos^2\\theta_0 + \\delta(\\theta - \\theta_0 - \\pi) \\, \\cos^2(\\theta_0).\n",
    "\\end{align*}\n",
    "\n",
    "Substituting the above into the integral leads to\n",
    "\n",
    "\\begin{align*}\n",
    "p(t) &= \\frac{1}{2\\pi} \\int_{0}^{2\\pi} \\delta(t - \\tan(\\theta)) \\, d\\theta,\n",
    "\\\\\n",
    "&= \\frac{1}{2\\pi} \\, \\cos^2\\theta_0 \\left[\\int_{0}^{2\\pi} \n",
    "\\delta(\\theta - \\theta_0) \\, d\\theta + \\int_{0}^{2\\pi}\\delta(\\theta - \\theta_0 - \\pi) \\, d\\theta \\right],\n",
    "\\\\\n",
    "&= \\frac{1}{\\pi} \\, \\cos^2\\theta_0, \\\\\n",
    "&= \\frac{1}{\\pi} \\frac{1}{(1 + t^2)}.\n",
    "\\end{align*}"
   ]
  },
  {
   "cell_type": "code",
   "execution_count": 1,
   "metadata": {},
   "outputs": [],
   "source": [
    "# system modules\n",
    "import os, sys\n",
    "\n",
    "# array manipulation module\n",
    "import numpy as np\n",
    "\n",
    "# scientific mathematical methods\n",
    "import scipy as sp\n",
    "import scipy.stats as st\n",
    "\n",
    "# symbolic algebra\n",
    "import sympy as sm\n",
    "sm.init_printing() # enable pretty-printing of equations\n",
    "\n",
    "# high-quality plots\n",
    "import matplotlib as mp\n",
    "import matplotlib.pyplot as plt\n",
    "\n",
    "# make plots appear inline\n",
    "%matplotlib inline"
   ]
  },
  {
   "cell_type": "code",
   "execution_count": 2,
   "metadata": {
    "scrolled": true
   },
   "outputs": [],
   "source": [
    "# update fonts\n",
    "font = {'family' : 'serif',\n",
    "        'weight' : 'normal',\n",
    "        'size'   : 20\n",
    "        }\n",
    "mp.rc('font', **font)\n",
    "mp.rc('xtick', labelsize='x-small')\n",
    "mp.rc('ytick', labelsize='x-small')\n",
    "# set usetex = False if latex not available on your machine\n",
    "mp.rc('text', usetex=True)  # Use local Latex compiler\n",
    "\n",
    "# set a seed to ensure reproducibility \n",
    "# on a given machine\n",
    "seed = 111\n",
    "rnd = np.random.RandomState(seed)"
   ]
  },
  {
   "cell_type": "markdown",
   "metadata": {},
   "source": [
    "### Generate $T = Y \\, / \\, X$ "
   ]
  },
  {
   "cell_type": "code",
   "execution_count": 3,
   "metadata": {},
   "outputs": [],
   "source": [
    "TMIN =-4.0  # t in (TMIN, TMAX)\n",
    "TMAX = 4.0\n",
    "N = 1000000\n",
    "\n",
    "X = rnd.normal(0, 1, N)\n",
    "Y = rnd.normal(0, 1, N)\n",
    "\n",
    "T = [y/x for x, y in zip(X, Y)]"
   ]
  },
  {
   "cell_type": "markdown",
   "metadata": {},
   "source": [
    "### Histogram $T$ and compare with Cauchy density\n"
   ]
  },
  {
   "cell_type": "code",
   "execution_count": 4,
   "metadata": {},
   "outputs": [],
   "source": [
    "def Cauchy(t):\n",
    "    return 1.0/(1 + t**2)/np.pi"
   ]
  },
  {
   "cell_type": "code",
   "execution_count": 5,
   "metadata": {},
   "outputs": [],
   "source": [
    "def plotData(data, \n",
    "             nbins=500,  \n",
    "             xmin=TMIN, xmax=TMAX,\n",
    "             ymin= 0, ymax=0.4,\n",
    "             ftsize=24, \n",
    "             color=(0.1,0.3,0.8), \n",
    "             fgsize=(8,5)):\n",
    "\n",
    "    # set size of figure\n",
    "    plt.figure(figsize=fgsize)\n",
    "    \n",
    "    # histogram data\n",
    "    # returns y, x, o\n",
    "    # y: counts\n",
    "    # x: bin boundaries\n",
    "    # o: objects (not used, hence the use of \"_\")\n",
    "    \n",
    "    # weight each entry explicitly rather than use the\n",
    "    # density keyword argument, which seems to normalize\n",
    "    # the plot within the range given by the range argument.\n",
    "    w = nbins * np.ones(len(data)) / len(data) / (xmax-xmin)\n",
    "    y, x, _ = plt.hist(data, \n",
    "                       bins=nbins,\n",
    "                       weights=w,\n",
    "                       color=color,\n",
    "                       alpha=0.20,\n",
    "                       range=(xmin, xmax))\n",
    "    \n",
    "    # convert bin boundaries to bin centers\n",
    "    # Note: x[1:]  = x[1], x[2], ..., x[n-1]\n",
    "    #       x[:-1] = x[0], x[1], ..., x[n-2]\n",
    "    t = (x[:-1] + x[1:])/2\n",
    "    f = [Cauchy(z) for z in t]\n",
    "\n",
    "    # superimpose Cauchy density\n",
    "    plt.plot(t, f, color=(1,0,0), lw=2)\n",
    "    \n",
    "    # add legends \n",
    "    plt.legend(['exact', \n",
    "                'by simulation'])\n",
    "    \n",
    "    # set up x, y limits\n",
    "    plt.xlim(xmin, xmax)\n",
    "    plt.ylim(ymin, ymax)\n",
    "    \n",
    "    # add x and y labels\n",
    "    plt.xlabel('$t$', fontsize=ftsize)\n",
    "    plt.ylabel('$p(t)$', fontsize=ftsize)\n",
    "    \n",
    "    # annotate \n",
    "    xwid = (xmax-xmin)/10\n",
    "    ywid = (ymax-ymin)/10\n",
    "    xpos = xmin + xwid\n",
    "    ypos = ymin + 8*ywid\n",
    "    \n",
    "    plt.text(xpos, ypos, \n",
    "             r'$p(t) = \\frac{1}{\\pi (1 + t^2)}$', \n",
    "             fontsize=ftsize)\n",
    "    \n",
    "    # tighten layout so that image is fully\n",
    "    # contained within viewport\n",
    "    plt.tight_layout()\n",
    "    \n",
    "    plt.savefig(\"fig_ratio_of_two_gaussian_variates.png\")\n",
    "    plt.show()"
   ]
  },
  {
   "cell_type": "code",
   "execution_count": 6,
   "metadata": {},
   "outputs": [
    {
     "data": {
      "image/png": "[encoded data removed]",
      "text/plain": [
       "<Figure size 576x360 with 1 Axes>"
      ]
     },
     "metadata": {
      "needs_background": "light"
     },
     "output_type": "display_data"
    }
   ],
   "source": [
    "plotData(T)"
   ]
  },
  {
   "cell_type": "code",
   "execution_count": null,
   "metadata": {},
   "outputs": [],
   "source": []
  }
 ],
 "metadata": {
  "kernelspec": {
   "display_name": "Python 3 (ipykernel)",
   "language": "python",
   "name": "python3"
  },
  "language_info": {
   "codemirror_mode": {
    "name": "ipython",
    "version": 3
   },
   "file_extension": ".py",
   "mimetype": "text/x-python",
   "name": "python",
   "nbconvert_exporter": "python",
   "pygments_lexer": "ipython3",
   "version": "3.9.13"
  }
 },
 "nbformat": 4,
 "nbformat_minor": 1
}
