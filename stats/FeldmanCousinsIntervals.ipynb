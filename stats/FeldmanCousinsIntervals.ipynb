{
 "cells": [
  {
   "cell_type": "markdown",
   "metadata": {},
   "source": [
    "# Poisson Confidence Intervals: Feldman-Cousins Ordering\n",
    " >__Created__:  21 October 2021 Harrison B. Prosper for LPC Stats 2021<br>\n",
    " > __Updated__: May 2022 for INFN School of Statistics\n",
    "\n",
    "## Introduction\n",
    "The frequentist principle (Neyman, 1937) requires the following guarantee:\n",
    "\n",
    "In an infinite ensemble of statements not necessarily about the same thing it is guaranteed that the fraction of true statements, called the __coverage probability__ nevers falls below  the desired __confidence level__.\n",
    "\n",
    "The standard application of this principle is the construction of confidence intervals $[\\, \\mu_L(X), \\mu_U(X) \\,]$ and statements of the form $$\\mu \\in [\\, \\mu_L(X), \\mu_U(X) \\,],$$\n",
    "where $X$ is a random variable.\n",
    "\n",
    "## Feldman-Cousins Method\n",
    "In 1998, Gary Feldman and Robert Cousins$^1$ introduced a method to construct intervals that respect the frequentist principle. This notebook uses this method to illustrate the general procedure for constructing cconfidence intervals using the F-C method as an example.\n",
    "\n",
    "  1. Gary J. Feldman and Robert D. Cousins, *Unified approach to the classical statistical analysis of small signals*, Phys. Rev. D __57__, 3873, 1998."
   ]
  },
  {
   "cell_type": "code",
   "execution_count": 1,
   "metadata": {},
   "outputs": [],
   "source": [
    "# standard system modules\n",
    "import os, sys\n",
    "\n",
    "# standard array manipulation module\n",
    "import numpy as np\n",
    "\n",
    "# standard scientific python module\n",
    "import scipy as sp\n",
    "import scipy.stats as st\n",
    "\n",
    "# standard symbolic algebra module\n",
    "import sympy as sm\n",
    "sm.init_printing()\n",
    "\n",
    "# standard plotting module\n",
    "import matplotlib as mp\n",
    "import matplotlib.pyplot as plt\n",
    "\n",
    "# arbitrary precision real and complex calculation\n",
    "#import mpmath\n",
    "\n",
    "# make plots appear inline\n",
    "%matplotlib inline"
   ]
  },
  {
   "cell_type": "code",
   "execution_count": 2,
   "metadata": {},
   "outputs": [],
   "source": [
    "# update fonts\n",
    "font = {'family' : 'serif',\n",
    "        'weight' : 'normal',\n",
    "        'size'   : 18\n",
    "        }\n",
    "mp.rc('font', **font)\n",
    "mp.rc('text', usetex=True)\n",
    "\n",
    "# set a seed to ensure reproducibility \n",
    "# on a given machine\n",
    "seed = 111\n",
    "rnd  = np.random.RandomState(seed)"
   ]
  },
  {
   "cell_type": "markdown",
   "metadata": {},
   "source": [
    "### Find an interval in the space of observations\n",
    "We start at $\\mu \\approx 0$ with the lower boundary at $n_1 = 0$.\n",
    "  1. Define a window from $n_1$ to $n_2$, where $n_2 = n_1 + \\text{int}(6 \\sqrt{\\mu})$.\n",
    "  1. Compute the ratios $r_n = \\text{Poisson}(n, \\mu) \\, / \\,  \\text{Poisson}(n, \\hat{\\mu})$ $ = \\mu^n \\exp(-\\mu) \\, / \\, n^n \\exp(-n)$.\n",
    "  1. Sort $r_n$ in descending order such that $n_{(1)}$ corresponds to the count with the largest value of $r_n$, $n_{(2)}$ to the second largest value and so on.\n",
    "  1. Compute the sum $p = \\text{Poisson}(n_{(1)}, \\mu) + \\text{Poisson}(n_{(2)}, \\mu) + \\ldots$ and stop when the sum equals or just exceeds the desired confidence level, CL.\n",
    "  1. For each $n$ in the set $\\{ n_{(i)} \\}$ cache the value of $\\mu$.\n",
    "  1. Set $n_1 = n_{(1)}$ and repeat the above for $\\mu \\leftarrow \\mu + \\Delta \\mu$."
   ]
  },
  {
   "cell_type": "code",
   "execution_count": 3,
   "metadata": {},
   "outputs": [],
   "source": [
    "CL    = 0.683\n",
    "MUMIN =  0\n",
    "MUMAX = 25\n",
    "MUSTEP= 0.01"
   ]
  },
  {
   "cell_type": "code",
   "execution_count": 4,
   "metadata": {},
   "outputs": [],
   "source": [
    "def compute_obs_interval(mu, n1, cache, cl):\n",
    "    \n",
    "    # step 1: define range to scan\n",
    "    n2 = n1 + int(6*np.sqrt(mu))\n",
    "    \n",
    "    # steps 2, 3: compute ratios and sort in descending order\n",
    "    rn = []\n",
    "    for n in range(n1, n2+1) :\n",
    "        p = st.poisson.pmf(n, mu)\n",
    "        q = st.poisson.pmf(n, n)\n",
    "        rn.append((p / q, p, n))\n",
    "    rn.sort()\n",
    "    rn.reverse()\n",
    "\n",
    "    # step 4: cache mu for every n in interval\n",
    "    m = []\n",
    "    p = 0.0\n",
    "    for _, pn, n in rn:\n",
    "        if n not in cache:\n",
    "            cache[n] = []\n",
    "        cache[n].append(mu)\n",
    "        m.append(n)\n",
    "        p += pn\n",
    "        if p >= cl:\n",
    "            break\n",
    "            \n",
    "    # check that counts are contiguous\n",
    "    m.sort()\n",
    "    m  = np.array(m)\n",
    "    n1 = m.min()\n",
    "    n2 = m.max()\n",
    "    \n",
    "    # u =  n1 + ... + n2 + n2 + ... + n1\n",
    "    # u = len(m)*(n1+n2)\n",
    "    u = (np.arange(n1,n2+1) + np.arange(n2,n1-1,-1)).sum()\n",
    "    w = len(m) * (n1 + n2)\n",
    "    if u != w:\n",
    "        print('** non-contiguous interval: %s\\tmu = %5.2f' % (m, mu))\n",
    "\n",
    "    return (p, n1, n2)"
   ]
  },
  {
   "cell_type": "markdown",
   "metadata": {},
   "source": [
    "### Confidence Intervals\n",
    "Every count $n$ is associated with a range of values of $\\mu$ called a __confidence interval__, or more generally a confidence set. Find the  lower and upper bound of the $\\mu$ values for each $n$."
   ]
  },
  {
   "cell_type": "code",
   "execution_count": 5,
   "metadata": {},
   "outputs": [],
   "source": [
    "def compute_intervals(cl, \n",
    "                      mumin=MUMIN, mumax=MUMAX, mustep=MUSTEP):\n",
    "    # mumin:  minimum mean value\n",
    "    # mumax:  maximum mean value\n",
    "    # mustep: step in mean value\n",
    "\n",
    "    # number of points in mu at which to construct an interval in\n",
    "    # the space of counts.\n",
    "    N = int(1.5*(mumax-mumin)/mustep)\n",
    "\n",
    "    # cache the value of mu associated with each count.\n",
    "    # the lower and upper limits of the confidence interval\n",
    "    # associated with a count are just the minimum and\n",
    "    # maximum values of mu for a given count.\n",
    "    cache = {}\n",
    "\n",
    "    mu = [] # mu values\n",
    "    p  = [] # coverage probability\n",
    "    n1 = 0  # lower bound of interval in space of observations\n",
    "\n",
    "    for i in range(N):\n",
    "        x = (i+1) * mustep\n",
    "        q, n1, n2 = compute_obs_interval(x, n1, cache, cl)\n",
    "    \n",
    "        # accumulate coverage vs. mu\n",
    "        if x <= mumax:\n",
    "            if i % 5 == 0:\n",
    "                mu.append(x)\n",
    "                p.append(q)\n",
    "\n",
    "        if i % 500 == 0:\n",
    "            print('%10.1f %10.3f %5d %5d' % (x, q, n1, n2))\n",
    "        \n",
    "    # get confidence intervals\n",
    "    intervals = []\n",
    "    for n in range(mumax+1):\n",
    "        lower = min(cache[n])\n",
    "        upper = max(cache[n])\n",
    "        intervals.append((lower, upper))\n",
    "    return (intervals, mu, p)"
   ]
  },
  {
   "cell_type": "code",
   "execution_count": 6,
   "metadata": {},
   "outputs": [
    {
     "name": "stdout",
     "output_type": "stream",
     "text": [
      "       0.0      0.990     0     0\n",
      "       5.0      0.742     3     7\n",
      "      10.0      0.734     7    13\n",
      "      15.0      0.691    12    19\n",
      "      20.0      0.687    16    24\n",
      "      25.0      0.730    20    30\n",
      "      30.0      0.685    25    35\n",
      "      35.0      0.686    30    41\n"
     ]
    }
   ],
   "source": [
    "intervals, mu, p = compute_intervals(CL)"
   ]
  },
  {
   "cell_type": "markdown",
   "metadata": {},
   "source": [
    "### Plot coverage vs. mean count $\\mu$"
   ]
  },
  {
   "cell_type": "code",
   "execution_count": 7,
   "metadata": {},
   "outputs": [],
   "source": [
    "def plot_coverage(x, y, cl,\n",
    "                  xmin=MUMIN, xmax=MUMAX, \n",
    "                  ymin=0, ymax=1, \n",
    "                  ftsize=20, \n",
    "                  fgsize=(6, 5)):\n",
    "   \n",
    "    # set size of figure\n",
    "    plt.figure(figsize=fgsize)\n",
    "    \n",
    "    # plot points \n",
    "    plt.plot(x, y, color='steelblue', \n",
    "             label='Feldman-Cousins intervals')\n",
    "    \n",
    "    percent = '%s' % '%'\n",
    "    icl = int(100*cl)\n",
    "    plt.plot([xmin, xmax], [cl, cl], \n",
    "             color='magenta',linestyle='--', \n",
    "             label='CL = %5.3f' % cl)\n",
    "\n",
    "    # add legends \n",
    "    plt.legend(fontsize=18)\n",
    "    \n",
    "    # set up x, y limits\n",
    "    plt.xlim(xmin, xmax)\n",
    "    plt.ylim(ymin, ymax)\n",
    "   \n",
    "    # add x and y labels\n",
    "    plt.xlabel(r'$\\mu$', fontsize=ftsize)\n",
    "    plt.ylabel(r'Pr[$\\,\\mu \\in (\\mu_L, \\, \\mu_U)\\,$]', \n",
    "               fontsize=ftsize)\n",
    " \n",
    "    # tighten layout so that image is fully\n",
    "    # contained within viewport\n",
    "    plt.tight_layout()\n",
    "    \n",
    "    filename = \"fig_poisson_FC_coverage_%2.2d.pdf\" % icl\n",
    "    print(filename)\n",
    "    plt.savefig(filename)\n",
    "    plt.show()"
   ]
  },
  {
   "cell_type": "code",
   "execution_count": 8,
   "metadata": {},
   "outputs": [
    {
     "name": "stdout",
     "output_type": "stream",
     "text": [
      "fig_poisson_FC_coverage_68.pdf\n"
     ]
    },
    {
     "data": {
      "image/png": "[encoded data removed]",
      "text/plain": [
       "<Figure size 432x360 with 1 Axes>"
      ]
     },
     "metadata": {
      "needs_background": "light"
     },
     "output_type": "display_data"
    }
   ],
   "source": [
    "plot_coverage(mu, p, CL)"
   ]
  },
  {
   "cell_type": "code",
   "execution_count": 9,
   "metadata": {},
   "outputs": [],
   "source": [
    "def plot_intervals(intervals, cl, \n",
    "                   xmin=MUMIN, xmax=MUMAX, \n",
    "                   ymin=0, ymax=MUMAX, \n",
    "                   ftsize=20, \n",
    "                   fgsize=(6, 5)):\n",
    "\n",
    "    # set size of figure\n",
    "    plt.figure(figsize=fgsize)\n",
    "    \n",
    "    # plot points\n",
    "    for n, y in enumerate(intervals[:-1]):\n",
    "        x = (n, n)\n",
    "        if n < 10:\n",
    "            print('%5d %5.2f, %5.2f' % (n, y[0], y[1]))\n",
    "        plt.plot(x, y, color='steelblue', linewidth=2)\n",
    "    n = len(intervals)\n",
    "    x = (n, n)\n",
    "    y = intervals[-1]\n",
    "    plt.plot(x, y, color='steelblue', linewidth=2, \n",
    "             label='%5.3f CL F-C intervals' % cl)\n",
    "    \n",
    "    # add legends \n",
    "    plt.legend()\n",
    "    \n",
    "    # set up x, y limits\n",
    "    plt.xlim(xmin, xmax)\n",
    "    plt.ylim(ymin, ymax)\n",
    "   \n",
    "    # add x and y labels\n",
    "    plt.xlabel(r'$N$', fontsize=ftsize)\n",
    "    plt.ylabel(r'$[\\,\\mu_L(N), \\, \\mu_U(N)\\,]$', \n",
    "               fontsize=ftsize)\n",
    " \n",
    "    # tighten layout so that image is fully\n",
    "    # contained within viewport\n",
    "    plt.tight_layout()\n",
    "    \n",
    "    icl = int(100*cl)\n",
    "    filename = \"fig_poisson_FC_intervals_%d.pdf\" % icl\n",
    "    print(filename)\n",
    "    plt.savefig(filename)\n",
    "    plt.show()"
   ]
  },
  {
   "cell_type": "code",
   "execution_count": 10,
   "metadata": {},
   "outputs": [
    {
     "name": "stdout",
     "output_type": "stream",
     "text": [
      "    0  0.01,  1.29\n",
      "    1  0.37,  2.75\n",
      "    2  0.74,  4.25\n",
      "    3  1.11,  5.30\n",
      "    4  2.34,  6.77\n",
      "    5  2.76,  7.80\n",
      "    6  3.83,  9.27\n",
      "    7  4.26, 10.30\n",
      "    8  5.31, 11.31\n",
      "    9  6.34, 12.79\n",
      "fig_poisson_FC_intervals_68.pdf\n"
     ]
    },
    {
     "data": {
      "image/png": "[encoded data removed]",
      "text/plain": [
       "<Figure size 432x360 with 1 Axes>"
      ]
     },
     "metadata": {
      "needs_background": "light"
     },
     "output_type": "display_data"
    }
   ],
   "source": [
    "plot_intervals(intervals, CL)"
   ]
  },
  {
   "cell_type": "code",
   "execution_count": null,
   "metadata": {},
   "outputs": [],
   "source": []
  }
 ],
 "metadata": {
  "kernelspec": {
   "display_name": "Python 3 (ipykernel)",
   "language": "python",
   "name": "python3"
  },
  "language_info": {
   "codemirror_mode": {
    "name": "ipython",
    "version": 3
   },
   "file_extension": ".py",
   "mimetype": "text/x-python",
   "name": "python",
   "nbconvert_exporter": "python",
   "pygments_lexer": "ipython3",
   "version": "3.9.13"
  }
 },
 "nbformat": 4,
 "nbformat_minor": 1
}
