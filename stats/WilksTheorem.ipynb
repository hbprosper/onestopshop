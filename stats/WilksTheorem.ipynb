{
 "cells": [
  {
   "cell_type": "markdown",
   "metadata": {},
   "source": [
    "# Wilks’ Theorem\n",
    " >__Created__:  12 Mar. 2018, Bhubaneswar, India, Harrison B. Prosper<br>\n",
    " >__Updated__:  24 Jun. 2018, updated for ESHEP 18, Maratea, Italy, HBP\n",
    "\n",
    "In 1938, Wilks [1] established the following  \n",
    "\n",
    "*Theorem* $-$\n",
    "Consider two probability density functions (or, for discrete data, probability mass functions) $f(x \\, | \\, \\theta_1, H_1)$ for hypothesis $H_1$ and $f(x \\, | \\, \\theta_0, H_0)$ for hypothesis $H_0$, in which the parameters $\\theta_0$ are a *subset* of the parameters $\\theta_1$. (In our $pp \\rightarrow H \\rightarrow ZZ \\rightarrow 4\\ell$ example, $\\theta_1 = s, b$, where $s$ and $b$ are the signal and background means in a counting experiment and $\\theta_0 = b$.) Compute the ratio\n",
    "\n",
    "$$\\lambda = \\frac{f(x \\, | \\, \\hat{\\theta}_0, H_0)}{f(x \\, | \\, \\hat{\\theta}_1, H_1)},$$\n",
    "\n",
    "where $\\hat{\\theta}_0$ and $\\hat{\\theta}_1$ denote the maximum likelihood estimates (MLE) of \n",
    "$\\theta_0$ and $\\theta_1$, respectively.\n",
    "If the dimensionality of $\\theta_1$ is $n$ and that of $\\theta_0$ is $m < n$ then, provided certain conditions are met and the null hypothesis $H_0$ is *true*, asymptotically, that is, as we accumulate more and more data, the probability density of \n",
    "\n",
    "$$t = -2 \\ln \\lambda,$$ \n",
    "\n",
    "converges to a $\\chi^2$ density with $n-m$ degrees of freedom. In our example, $n = 2$ and $m = 1$, therefore, for this example the density of $t$ will approach a $\\chi^2$ density with one degree of freedom.\n",
    "\n",
    "A more operational way to state this theorem is as follows. Given a likelihood function $L(\\theta, \\nu)$ with parameters $\\theta$ and $\\nu$, maximize $L$ with respect to $\\nu$, for a given $\\theta$, and replace $\\nu$ in $L$ by its estimate $\\hat{\\nu}(\\theta)$. This yields a quantity $L_p(\\theta)$ called the __profile likelihood__. Then, the density $p(t)$ of $t = -2 \\ln L_p(\\theta)/L_p(\\hat{\\theta})$ $\\rightarrow$ $\\chi^2$ density of $ndf = n - m$ degrees of freedom, which equals the dimensionality of the parameter vector $\\theta$.\n",
    "\n",
    "## Exercise\n",
    "\n",
    "In this exercise, we consider the prototypical\n",
    "likelihood, \n",
    "\n",
    "$$p(D \\, |\\, s, b ) = \\frac{(s + b)^N \\exp(-(s + b))}{N!} \\, \\frac{(kb)^M \\exp(-kb)}{\\Gamma(M+1)},$$\n",
    "\n",
    "for an experiment that yields a *single* count $N$ in some signal region. The hypothesis $H_0$ is associated with a specific value of $s$, such as $s = 0$. The profile likelihood $L_p(s)$ is obtained by maximizing $L(s, b) \\equiv p(D \\,|\\, s, b)$ with respect to the parameter of the hypothesis $H_0$, namely, $b$ and replacing the latter with\n",
    "\n",
    "\\begin{align*}\n",
    "\\hat{b}(s) & = \\frac{g + \\sqrt{g^2 + 4 (1 + k) M s}}{2(1 + k)},\\textrm{ where}\\\\\n",
    "g & = N + M - (1 + k) s.\n",
    "\\end{align*}\n",
    "\n",
    "We simulate the density of \n",
    "\n",
    "\\begin{align*}\n",
    "t(s, \\hat{s}) & = -2 \\ln L_p(s) / L_p(\\hat{s})\n",
    "\\end{align*}\n",
    "\n",
    "and compare it to a $\\chi^2$ density of one degree of freedom. Note that the peak of the profile likelihood necessarily occurs at the same place as the true likelihood function, namely, at \n",
    "\n",
    "\\begin{align*}\n",
    "\\hat{s} & = N - M / k,\\\\\n",
    "\\hat{b} & = M / k.\n",
    "\\end{align*}\n",
    "\n",
    "For simplicity, we assume that the scale factor $k$ is known with negligible uncertainty. For a clever exploitation of the Wald approximation, see Ref. [2]\n",
    "\n",
    "### References\n",
    "  1. Wilks, S. S., *The large-sample distribution of the likelihood ratio for testing composite hypotheses*, Ann. Math. Statist. __9__, 60-62 (1938).\n",
    "  1. Cowan, G., Cranmer, K., Gross, E. *et al.* *Asymptotic formulae for likelihood-based tests of new physics* Eur. Phys. J. C 71, 1554 (2011). https://doi.org/10.1140/epjc/s10052-011-1554-0."
   ]
  },
  {
   "cell_type": "code",
   "execution_count": 1,
   "metadata": {},
   "outputs": [],
   "source": [
    "import os, sys\n",
    "import pandas as pd\n",
    "import numpy as np\n",
    "import scipy as sp\n",
    "import scipy.stats as st\n",
    "import matplotlib as mp\n",
    "import matplotlib.pyplot as plt\n",
    "\n",
    "# make plots appear inline\n",
    "%matplotlib inline"
   ]
  },
  {
   "cell_type": "code",
   "execution_count": 2,
   "metadata": {},
   "outputs": [],
   "source": [
    "# update fonts\n",
    "font = {'family' : 'serif',\n",
    "        'weight' : 'normal',\n",
    "        'size'   : 18\n",
    "        }\n",
    "mp.rc('font', **font)\n",
    "# use if you have a full LaTeX installation\n",
    "mp.rc('text', usetex=True)\n",
    "\n",
    "# set a seed to ensure reproducibility \n",
    "# on a given machine\n",
    "seed = 111\n",
    "rnd  = np.random.RandomState(seed)"
   ]
  },
  {
   "cell_type": "markdown",
   "metadata": {},
   "source": [
    "### CMS (Phys. Rev. D89, 092007 (2014)) $pp \\rightarrow H \\rightarrow ZZ \\rightarrow 4\\ell$.\n"
   ]
  },
  {
   "cell_type": "code",
   "execution_count": 3,
   "metadata": {},
   "outputs": [
    {
     "name": "stdout",
     "output_type": "stream",
     "text": [
      "Effective background count (M):            353.44\n",
      "Effectuve background scale factor (k):      37.60\n",
      "MLE signal estimate:                        15.60 events\n"
     ]
    }
   ],
   "source": [
    "N = 25           # observed events\n",
    "B = 9.4          # estimated background (in signal region)\n",
    "dB= 0.5          # background uncertainty\n",
    "S = N - B        \n",
    "M =(B / dB)**2   # effective count in background control region\n",
    "k = M / B        # effective scale factor\n",
    "s_hat = N - B    # maximum likelihood signal estimate\n",
    "print(\"Effective background count (M):        %10.2f\" % M)\n",
    "print(\"Effectuve background scale factor (k): %10.2f\" % k)\n",
    "print(\"MLE signal estimate:                   %10.2f events\" % s_hat)"
   ]
  },
  {
   "cell_type": "markdown",
   "metadata": {},
   "source": [
    "### Compute profile likelihood $L_p(s) = p(D | s, \\hat{b}(s))$\n",
    "Write $L_p(s)$ so that there can be an implied loop over the counts $n$ and $m$; i.e., we follow the *numpy* array semantics."
   ]
  },
  {
   "cell_type": "code",
   "execution_count": 4,
   "metadata": {},
   "outputs": [],
   "source": [
    "def Lp(N, M, k, s):\n",
    "    p = []\n",
    "    for i, n, m in zip(range(len(N)), N, M):\n",
    "        g = n + m - (1+k)*s\n",
    "        b = g + np.sqrt(g*g+4*(1+k)*m*s)\n",
    "        b /= 2*(1+k)\n",
    "        p1 = st.gamma.pdf(s + b, n + 1)\n",
    "        p2 = st.gamma.pdf(k*b, m + 1)\n",
    "        p.append(p1*p2)\n",
    "        if i % 1000 == 0: print(\"*\", end='')\n",
    "    print()\n",
    "    if len(p) > 1:\n",
    "        return np.array(p)\n",
    "    else:\n",
    "        return p[0]\n",
    "    \n",
    "def Lpmax(N, M, k, restrict=False):\n",
    "    p = []\n",
    "    for i, n, m in zip(range(len(N)), N, M):\n",
    "        s_hat = n - float(m)/k\n",
    "        if restrict:\n",
    "            if s_hat < 0: s_hat = 0\n",
    "        b_hat = m / k\n",
    "        p1 = st.gamma.pdf(s_hat + b_hat, n + 1)\n",
    "        p2 = st.gamma.pdf(m, m + 1)\n",
    "        p.append(p1*p2)\n",
    "        if i % 1000 == 0: print(\"o\", end='')\n",
    "    print()\n",
    "    if len(p) > 1:\n",
    "        return np.array(p)\n",
    "    else:\n",
    "        return p[0]"
   ]
  },
  {
   "cell_type": "markdown",
   "metadata": {},
   "source": [
    "### Compute $\\lambda(s) = L_P(s) / L_p(\\hat{s})$ and $t_\\textrm{obs}(s) = -2 \\ln \\lambda(s)$ for $s = 0$.\n",
    "\n",
    "Note that $0 < \\lambda(s) < 1$ and reaches its upper bound for $s = \\hat{s}$. In effect, $\\lambda(s)$ compares the likelihood of hypothesis $s$ to the hypothesis $\\hat{s}$ which best agrees with the observation."
   ]
  },
  {
   "cell_type": "code",
   "execution_count": 5,
   "metadata": {},
   "outputs": [],
   "source": [
    "def t_test(N, M, k, s):\n",
    "    L0 = Lp(N, M, k, s)\n",
    "    L1 = Lpmax(N, M, k)\n",
    "    t  = 2*np.log(L1 / L0)\n",
    "    if len(N) > 0:\n",
    "        return t\n",
    "    else:\n",
    "        return t[0]"
   ]
  },
  {
   "cell_type": "markdown",
   "metadata": {
    "collapsed": true
   },
   "source": [
    "### Simulation\n",
    "In order to simulate the density of $t$, we need to decide what constitutes a repetition of the null experiment. We shall assume that $k$ is fixed as is the mean background $b$ and that a repetition of the null experiment yields the counts $N$ and $M$. Since these ensembles are purely fictional, there is no right or wrong fictional, i.e., virtual, ensemble, just different ones with which reasonable people can, and do, disagree about which if any is the most plausible for evaluating relevant quantities, e.g., systematic uncertainties and confidence levels! The point is that unlike ensembles in the real world, simulated ensembles are *hypothetical*. The problem of deciding which virtual ensemble to use is referred to as the *reference class problem*. \n",
    "\n",
    "  * Below we simulate $N_\\textrm{exp} = 25,000$ experiments with given true values of $s = s_0$ and $b = b_0$.\n",
    "  * __Investigate__:\n",
    "    * Keep $s_0$ fixed, and try different values of $b_0$ starting around $b_0 = 1$. What happens? Does the density of $t(s)$ depend on the true value of $b_0$?\n",
    "    * Keep $b_0$ fixed and vary $s_0$, but test $s = s_0$. Does the density depend on $s_0$?\n",
    "    * Keep $b_0$ fixed, and test different values of $s$, which differ from its true value, $s_{0}$. What happens?"
   ]
  },
  {
   "cell_type": "code",
   "execution_count": 6,
   "metadata": {},
   "outputs": [],
   "source": [
    "Nexp = 25000\n",
    "s0 = 0.0    # true value of signal\n",
    "b0 = B      # true value of background\n",
    "n = st.poisson.rvs(s0 + b0, size=Nexp)\n",
    "m = st.poisson.rvs(k*b0, size=Nexp)"
   ]
  },
  {
   "cell_type": "markdown",
   "metadata": {},
   "source": [
    "### Plot distribution of simulated test statistic $t(s)$.\n",
    "When the signal hypothesis under test matches the true mean signal, Wilks' theorem (1938), applied to the current problem, states that the density of $t(s, \\hat{s})$ converges to $p(\\chi^2, ndf=1)$ as the amount of data increases without limit (provided certain conditions are met), i.e., in the *asymptotic* limit. The approximation by Wald (1943), essentially that $t(s, s_0) \\approx (s - \\hat{s})^2/\\sigma^2$ can be used to investigate hypotheses for which $s \\neq s_0$. For such hypotheses, the asymptotic form of the density of $t(s, \\hat{s})$ is a *noncentral $\\chi^2$* density $p(\\chi^2, ndf, nc)$, where $nc$ is called the *noncentrality* parameter. \n",
    "\n",
    "For this problem, the noncentrality parameter is given by\n",
    "$$nc = t(s, s_0),$$ that is, by the test statistic when it is computed using an __Asimov__ dataset. An Asimov dataset is one for which the \"observed\" data are set to the true values. Consequently, for our example, the maximum likelihood estimate of the signal is replaced by its true value, i.e., $\\hat{s} \\rightarrow s_0$. The name of this special dataset is inspired by the short story *Franchise* by Isaac Asimov describing a futuristic United States in which, rather than having everyone vote in a general election, a single (presumably representative) person is chosen to answer a series of questions whose answers are analyzed by an AI system. The AI system then decides the outcome of the election by determining what would have been the outcome of the election if it had been held and all eligible voters voted! "
   ]
  },
  {
   "cell_type": "code",
   "execution_count": 7,
   "metadata": {},
   "outputs": [],
   "source": [
    "'''\n",
    "t      test statistic\n",
    "nc     noncentrality parameter (see below)\n",
    "ndf    number of degrees of freedom\n",
    "fgsize figure size\n",
    "'''\n",
    "def plot_t(t, fgfile='fig_wilks.png', nc=0, ndf=1, fgsize=(6, 6)):\n",
    "    \n",
    "    # set size of figure\n",
    "    plt.figure(figsize=fgsize)\n",
    "\n",
    "    # define ranges of plot\n",
    "    x_range = (0, 16.0)\n",
    "    y_range = (0,  1.0)\n",
    "    \n",
    "    # plot simulated normalized density of t(s, s_hat)\n",
    "    v, x, q = plt.hist(t, \n",
    "                       bins=50,\n",
    "                       range=x_range,\n",
    "                       color=(0.2,0.7,0.5),\n",
    "                       alpha=0.3,\n",
    "                       density=True,\n",
    "                       label=r'by simulation')\n",
    "    plt.legend()\n",
    "\n",
    "    xmin, xmax = x_range\n",
    "    x = np.arange(xmin, xmax, 0.02)\n",
    "    # plot noncentral chi2 density of 1 degree of freedom (ndf)\n",
    "    y = st.ncx2.pdf(x, ndf, nc)\n",
    "    plt.plot(x, y, \n",
    "             color=(1,0,0),\n",
    "             linewidth=2,\n",
    "             label=r'$p(\\chi^2, 1, nc)$') \n",
    "    plt.legend()\n",
    "      \n",
    "    # plot chi2 density of 1 degree of freedom (ndf)\n",
    "    y = st.chi2.pdf(x, ndf) # usual chi2 density\n",
    "    plt.plot(x, y, \n",
    "             color=(0,0,1),\n",
    "             linewidth=2,\n",
    "             label=r'$p(\\chi^2, 1)$') \n",
    "    plt.legend()\n",
    "               \n",
    "        \n",
    "    # adjust y limits\n",
    "    axes = plt.gca()\n",
    "    axes.set_xlim(x_range)\n",
    "    axes.set_ylim(y_range)\n",
    "    axes.set_xlabel(r'$\\chi^2$',  fontsize=30)\n",
    "    axes.set_ylabel(r'$p(\\chi^2)$', fontsize=30)\n",
    "    \n",
    "    xmin, xmax = axes.get_xlim()\n",
    "    ymin, ymax = axes.get_ylim()\n",
    "    xwid = (xmax-xmin)/10\n",
    "    ywid = (ymax-ymin)/10\n",
    "    \n",
    "    # annotate\n",
    "    xpos = 2*xwid\n",
    "    ypos = 6*ywid\n",
    "    plt.text(xpos, ypos, r'$t = -2 \\ln \\lambda(s, \\hat{s})$',\n",
    "             fontsize=24)\n",
    "    plt.text(xpos, ypos-ywid, r'$\\lambda(s, \\hat{s}) = L_p(s) / L_p(\\hat{s})$',\n",
    "             fontsize=24)\n",
    "    plt.savefig(fgfile)\n",
    "    plt.show()"
   ]
  },
  {
   "cell_type": "markdown",
   "metadata": {},
   "source": [
    "__Compute noncentrality parameter__"
   ]
  },
  {
   "cell_type": "code",
   "execution_count": 9,
   "metadata": {},
   "outputs": [
    {
     "name": "stdout",
     "output_type": "stream",
     "text": [
      "*\n",
      "o\n",
      "noncentrality parameter:     1.95\n"
     ]
    }
   ],
   "source": [
    "Asimov = [[s0+b0], [k*b0]]\n",
    "s  = 5.0     # signal hypothesis to be tested\n",
    "nc = t_test(Asimov[0], Asimov[1], k, s)\n",
    "print('noncentrality parameter: %8.2f' % nc)"
   ]
  },
  {
   "cell_type": "code",
   "execution_count": 10,
   "metadata": {},
   "outputs": [
    {
     "name": "stdout",
     "output_type": "stream",
     "text": [
      "*************************\n",
      "ooooooooooooooooooooooooo\n"
     ]
    },
    {
     "data": {
      "image/png": "[encoded data removed]",
      "text/plain": [
       "<Figure size 432x432 with 1 Axes>"
      ]
     },
     "metadata": {
      "needs_background": "light"
     },
     "output_type": "display_data"
    }
   ],
   "source": [
    "tnc= t_test(n, m, k, s)\n",
    "plot_t(tnc, 'fig_wilks_noncentral.png', nc)"
   ]
  },
  {
   "cell_type": "markdown",
   "metadata": {},
   "source": []
  },
  {
   "cell_type": "markdown",
   "metadata": {
    "collapsed": true
   },
   "source": [
    "### Plot distribution of simulated test statistic $t(s)$ for the null hypothesis $s = s_0$."
   ]
  },
  {
   "cell_type": "code",
   "execution_count": 11,
   "metadata": {},
   "outputs": [
    {
     "name": "stdout",
     "output_type": "stream",
     "text": [
      "*************************\n",
      "ooooooooooooooooooooooooo\n"
     ]
    },
    {
     "data": {
      "image/png": "[encoded data removed]",
      "text/plain": [
       "<Figure size 432x432 with 1 Axes>"
      ]
     },
     "metadata": {
      "needs_background": "light"
     },
     "output_type": "display_data"
    }
   ],
   "source": [
    "s = s0     # null hypothesis to be tested\n",
    "tc= t_test(n, m, k, s)\n",
    "plot_t(tc, 'fig_wilks_central.png')"
   ]
  },
  {
   "cell_type": "code",
   "execution_count": null,
   "metadata": {},
   "outputs": [],
   "source": []
  }
 ],
 "metadata": {
  "kernelspec": {
   "display_name": "Python 3 (ipykernel)",
   "language": "python",
   "name": "python3"
  },
  "language_info": {
   "codemirror_mode": {
    "name": "ipython",
    "version": 3
   },
   "file_extension": ".py",
   "mimetype": "text/x-python",
   "name": "python",
   "nbconvert_exporter": "python",
   "pygments_lexer": "ipython3",
   "version": "3.9.13"
  }
 },
 "nbformat": 4,
 "nbformat_minor": 1
}
